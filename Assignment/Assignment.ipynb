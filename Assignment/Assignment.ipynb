{
 "cells": [
  {
   "cell_type": "markdown",
   "metadata": {},
   "source": [
    "*Question One:* _List Comprehension_"
   ]
  },
  {
   "cell_type": "code",
   "execution_count": 1,
   "metadata": {},
   "outputs": [],
   "source": [
    "# Write a python program that outputs the squares of odd numbers from range of 1 to 20\n",
    "\n",
    "start, end = 1, 20\n",
    "\n",
    "for x in range(start,end + 1):\n",
    "    if x % 2 != 0:\n",
    "        print(x ** 2, end =\" \" )\n"
   ]
  },
  {
   "cell_type": "markdown",
   "metadata": {},
   "source": [
    "*Question Two:* _Integers_"
   ]
  },
  {
   "cell_type": "code",
   "execution_count": 2,
   "metadata": {},
   "outputs": [],
   "source": [
    "# Write a program to check whether the given integer is a multiple of 5_\n",
    "\n",
    "number = int(input(\"enter the number: \"))\n",
    "\n",
    "if(number % 5 == 0):\n",
    "    print(\"%d is a multiple of 5\"%(number))\n",
    "else:\n",
    "    print(\"%d is not a multiple of 5\"%(number))"
   ]
  },
  {
   "cell_type": "markdown",
   "metadata": {},
   "source": [
    "*Question Three*: _If Statement_"
   ]
  },
  {
   "cell_type": "code",
   "execution_count": 3,
   "metadata": {},
   "outputs": [],
   "source": [
    "# Write a program python program to check whether the given integer is a prime number or not\n",
    "\n",
    "number = int(input(\"enter the number: \"))\n",
    "\n",
    "if number > 1:\n",
    "    for x in range(2, int(number/2 + 1)):\n",
    "        if (number % x) == 0:\n",
    "            print(number, \"is not a prime number\")\n",
    "            break\n",
    "    else:\n",
    "        print(number, \"is a prime number\")\n",
    "else:\n",
    "    print(number, \"is not a prime number\")\n"
   ]
  },
  {
   "cell_type": "markdown",
   "metadata": {},
   "source": [
    "*Question Four:* _User-defined Functions_"
   ]
  },
  {
   "cell_type": "code",
   "execution_count": 1,
   "metadata": {},
   "outputs": [],
   "source": [
    "# Write a program to implement a calculator to do basic operations (+,-,*,/)\n",
    "\n",
    "def add(x,y):\n",
    "    return x + y\n",
    "\n",
    "def subtract(x,y):\n",
    "    return x - y\n",
    "\n",
    "def multiply(x,y):\n",
    "    return x * y\n",
    "\n",
    "def divide(x,y):\n",
    "    return x / y\n",
    "\n",
    "x = float(input(\"Enter first number: \")) \n",
    "y = float(input(\"Enter second number: \"))\n",
    "\n",
    "print(\"Operation: +, -, *, /\") \n",
    "select = input(\"Select operations: \")\n",
    "\n",
    "if select == \"+\":\n",
    "    print(x, \"+\", y, \"=\", add(x, y)) \n",
    "  \n",
    "elif select == \"-\": \n",
    "    print(x, \"-\", y, \"=\", subtract(x, y)) \n",
    "  \n",
    "elif select == \"*\": \n",
    "    print(x, \"*\", y, \"=\", multiply(x, y)) \n",
    "  \n",
    "elif select == \"/\": \n",
    "    print(x, \"/\", y, \"=\", divide(x, y)) \n",
    "\n",
    "else: \n",
    "    print(\"Invalid input\")"
   ]
  },
  {
   "cell_type": "markdown",
   "metadata": {},
   "source": [
    "*Question Five:* _Dictionaries & For Loop_"
   ]
  },
  {
   "cell_type": "code",
   "execution_count": 2,
   "metadata": {},
   "outputs": [],
   "source": [
    "# Create a simple dictionary and write a program to print all the items in your dictionary\n",
    "\n",
    "d=dict()\n",
    "for x in range(1,20):\n",
    "    d[x]=x**2\n",
    "print(d) "
   ]
  },
  {
   "cell_type": "code",
   "execution_count": null,
   "metadata": {},
   "outputs": [],
   "source": []
  }
 ],
 "metadata": {
  "interpreter": {
   "hash": "1e4af7d8341c13d568efc1f8500c9e0239c4d10084c4659a417b8b188748b437"
  },
  "kernelspec": {
   "display_name": "Python 3.10.1 64-bit",
   "language": "python",
   "name": "python3"
  },
  "language_info": {
   "codemirror_mode": {
    "name": "ipython",
    "version": 3
   },
   "file_extension": ".py",
   "mimetype": "text/x-python",
   "name": "python",
   "nbconvert_exporter": "python",
   "pygments_lexer": "ipython3",
   "version": "3.8.10"
  },
  "orig_nbformat": 4
 },
 "nbformat": 4,
 "nbformat_minor": 2
}
